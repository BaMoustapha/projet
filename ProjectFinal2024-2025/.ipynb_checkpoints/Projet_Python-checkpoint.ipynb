{
 "cells": [
  {
   "cell_type": "markdown",
   "id": "7a097f25",
   "metadata": {},
   "source": [
    "# PROJET FINAL: Analyse de données et machine learning avec Python\n",
    "\n",
    "Il s'agit d'analyser les données collectées sur la pandémie du covid 19 qui sont dans un fichier au format csv (voir dossier *data*)."
   ]
  },
  {
   "cell_type": "markdown",
   "id": "43aa751d",
   "metadata": {},
   "source": [
    "## Description du jeu du données:\n",
    "\n",
    "### Contexte\n",
    "\n",
    "La maladie à coronavirus (COVID-19) est une maladie infectieuse causée par un coronavirus récemment découvert. La plupart des personnes infectées par le virus COVID-19 souffriront d'une maladie respiratoire légère à modérée et se rétabliront sans nécessiter de traitement particulier. Les personnes âgées et celles qui présentent des problèmes médicaux sous-jacents tels que les maladies cardiovasculaires, le diabète, les maladies respiratoires chroniques et le cancer sont plus susceptibles de développer une maladie grave.\n",
    "\n",
    "Pendant toute la durée de la pandémie, l'un des principaux problèmes auxquels les prestataires de soins de santé ont été confrontés est le manque de ressources médicales et d'un plan approprié pour les distribuer efficacement. En ces temps difficiles, être capable de prédire le type de ressources dont un individu pourrait avoir besoin au moment où il est testé positif ou même avant cela sera d'une aide immense pour les autorités car elles seront en mesure de se procurer et d'organiser les ressources nécessaires pour sauver la vie de ce patient.\n",
    "\n",
    "L'objectif principal de ce projet est de construire un modèle d'apprentissage automatique qui, compte tenu des symptômes, de l'état et des antécédents médicaux d'un patient atteint du Covid-19, permettra de prédire si le patient est à haut risque ou non.\n",
    "\n",
    "### Description du jeux de données\n",
    "\n",
    "Le jeu de données a été fourni par le gouvernement mexicain. Cet ensemble de données contient un nombre énorme d'informations anonymes relatives aux patients, y compris les conditions préalables. L'ensemble de données brutes se compose de 21 caractéristiques uniques et de 1 048 576 patients uniques. Dans les caractéristiques booléennes, 1 signifie \"oui\" et 2 signifie \"non\". Les valeurs 97 et 99 indique des données manquantes.\n",
    "\n",
    "Quelques informations sur les *features*:\n",
    "\n",
    "- sex : femme ou homme\n",
    "- age : du patient.\n",
    "- classification : résultats du test covid. Les valeurs 1-3 signifient que le patient a été diagnostiqué avec un covid à différents degrés. 4 ou plus signifie que le patient n'est pas porteur du covid ou que le test n'est pas concluant.\n",
    "- patient type: hospitalisé ou non hospitalisé.\n",
    "- pneumonia : si le patient a déjà une inflammation lié à la pneumonie ou non.\n",
    "- pregnancy : si la patiente est enceinte ou non.\n",
    "- diabetes : indique si le patient est diabétique ou non.\n",
    "- copd: indique si le patient est atteint ou non de bronchopneumopathie chronique obstructive.\n",
    "- asthma : indique si le patient est asthmatique ou non.\n",
    "- inmsupr : indique si le patient est immunodéprimé ou non.\n",
    "- hypertension : si le patient est hypertendu ou non.\n",
    "- cardiovascular : si le patient est atteint d'une maladie du cœur ou des vaisseaux sanguins.\n",
    "- renal chronic : si le patient est atteint d'une maladie rénale chronique ou non.\n",
    "- other disease : si le patient est atteint d'une autre maladie ou non.\n",
    "- obesity : si le patient est obèse ou non.\n",
    "- tobacco : si le patient est un fumeur.\n",
    "- usmr : indique si le patient a traité des unités médicales de premier, deuxième ou troisième niveau.\n",
    "- medical unit: type d'institution du système national de santé qui a dispensé les soins.\n",
    "- intubed : indique si le patient a été relié au ventilateur.\n",
    "- icu : indique si le patient a été admis dans une unité de soins intensifs.\n"
   ]
  },
  {
   "cell_type": "markdown",
   "id": "5f6ef72d",
   "metadata": {},
   "source": [
    "## Étape 1 : Préparation et nettoyage des données\n",
    "1. Chargez le jeu de données  dans un *dataframe* à l'aide de Pandas.\n",
    "2. Explorez le nombre de lignes et de colonnes, les plages de valeurs, etc.\n",
    "3. Traitez les données manquantes, incorrectes et invalides\n",
    "4. Effectuez toute étape supplémentaire (analyse des dates, création de colonnes supplémentaires, fusion de plusieurs ensembles de données, etc.)"
   ]
  },
  {
   "cell_type": "code",
   "execution_count": 2,
   "id": "1f6b4aca",
   "metadata": {},
   "outputs": [],
   "source": [
    "# Inserer autant de cellules que vous voulez dans ce notebook"
   ]
  },
  {
   "cell_type": "markdown",
   "id": "09d0fdee",
   "metadata": {},
   "source": [
    "## Etape 2:  Effectuer une analyse exploratoire et une visualisation\n",
    "1. Calculez la moyenne, la somme, l'étendue et d'autres statistiques intéressantes pour les colonnes numériques.\n",
    "2. Explorez les distributions des colonnes numériques à l'aide d'histogrammes, etc.\n",
    "3. Explorez les relations entre les colonnes à l'aide d'une matrice des corrélations entre les *features* (voir visualisation avec heatmap)\n",
    "4. Notez les résultats intéressants de l'analyse exploratoire.\n"
   ]
  },
  {
   "cell_type": "code",
   "execution_count": null,
   "id": "2c9fac49",
   "metadata": {},
   "outputs": [],
   "source": [
    "# Inserer autant de cellules que vous voulez dans ce notebook"
   ]
  },
  {
   "cell_type": "markdown",
   "id": "1b919a6a",
   "metadata": {},
   "source": [
    "## Etape 3: Posez des questions sur les données et répondez-y.\n",
    "1. Posez au moins 4 questions intéressantes sur votre ensemble de données.\n",
    "2. Répondez aux questions soit en calculant les résultats à l'aide de Numpy/Pandas, soit en traçant des graphiques à l'aide de Matplotlib/Seaborn.\n",
    "3. Créez de nouvelles colonnes, fusionnez plusieurs ensembles de données et effectuez des regroupements/agrégations si nécessaire.\n",
    "4. Chaque fois que vous utilisez une fonction de bibliothèque de Pandas/Numpy/Matplotlib, etc., expliquez brièvement ce qu'elle fait."
   ]
  },
  {
   "cell_type": "code",
   "execution_count": null,
   "id": "f73fcf16",
   "metadata": {},
   "outputs": [],
   "source": [
    "# Inserer autant de cellules que vous voulez dans ce notebook"
   ]
  },
  {
   "cell_type": "markdown",
   "id": "2e9e4a29",
   "metadata": {},
   "source": [
    "## Étape 4 : résumez vos déductions et rédigez une conclusion.\n",
    "1. Rédigez un résumé de ce que vous avez appris de l'analyse.\n",
    "2. Incluez les idées et les graphiques intéressants des sections précédentes.\n",
    "3. Partagez des idées de travaux futurs sur le même sujet en utilisant d'autres ensembles de données pertinents."
   ]
  },
  {
   "cell_type": "code",
   "execution_count": 6,
   "id": "ac52bcd8",
   "metadata": {},
   "outputs": [],
   "source": [
    "# Inserer autant de cellules que vous voulez dans ce notebook"
   ]
  },
  {
   "cell_type": "markdown",
   "id": "1d9d87f5",
   "metadata": {},
   "source": [
    "### Étape 5: Faites des prédictions\n",
    "1. Divisez le jeux de données (80% entrainement: 20% test)\n",
    "2. Comparer les résultats de classifications de 3 modèles de machine learning (regression linéaire, *random forest*, *Naive Bayes*) suivant les trois critères: *recall*, *accuracy*, *precision*"
   ]
  },
  {
   "cell_type": "code",
   "execution_count": null,
   "id": "8d2dbafc",
   "metadata": {},
   "outputs": [],
   "source": [
    "# Inserer autant de cellules que vous voulez dans ce notebook"
   ]
  },
  {
   "cell_type": "markdown",
   "id": "cc8f949b",
   "metadata": {},
   "source": [
    "# <span style=\"color:red\">DATE LIMITE DE SOUMISSION DU PROJET: 29/02/2024  à    23H59 GMT </span>     \n",
    "\n",
    "### <span style=\"color:red\"> Adresse: amanvon.atta@inphb.ci</span>"
   ]
  }
 ],
 "metadata": {
  "kernelspec": {
   "display_name": "Python 3 (ipykernel)",
   "language": "python",
   "name": "python3"
  },
  "language_info": {
   "codemirror_mode": {
    "name": "ipython",
    "version": 3
   },
   "file_extension": ".py",
   "mimetype": "text/x-python",
   "name": "python",
   "nbconvert_exporter": "python",
   "pygments_lexer": "ipython3",
   "version": "3.12.0"
  }
 },
 "nbformat": 4,
 "nbformat_minor": 5
}
